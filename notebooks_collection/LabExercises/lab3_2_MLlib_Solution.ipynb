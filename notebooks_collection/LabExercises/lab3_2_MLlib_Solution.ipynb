{
 "cells": [
  {
   "cell_type": "markdown",
   "metadata": {
    "collapsed": true
   },
   "source": [
    "## Linear regression\n",
    "\n",
    "Today's second exercise will involve linear regression with stochastic gradient descent and with <a href=\"http://spark.apache.org/docs/latest/mllib-guide.html\">MLlib</a>.\n",
    "\n",
    "This exercise will be divided into three parts:\n",
    "\n",
    "+ #### 1. Importing and preparing the data\n",
    "+ #### 2. Creating a baseline benchmark\n",
    "+ #### 3. Utilizing MLlib\n",
    "\n",
    "<br>\n",
    "\n",
    "\n",
    "In the following exercises you will need to replace the code parts in the cell that starts with following comment: \"#Replace the `<INSERT>`\"\n",
    "\n",
    "To go through the notebook fill in the `<INSERT>`:s with appropriate code in the cells. \n",
    "To run a cell press <kbd>Shift</kbd>+<kbd>Enter</kbd> to run it and advance to the following cell or <kbd>Ctrl</kbd>+<kbd>Enter</kbd> to only run the code in the cell. You should do the exercises from the top to the bottom in this notebook, because following cells may depend on code in previous cells.\n",
    "\n",
    "## Description of the data set\n",
    "In this exercise we will utilize the <a href=\"http://archive.ics.uci.edu/ml/datasets/Parkinsons+Telemonitoring\">Parkinsons Telemonitoring Data Set</a> used in the following article <a href=\"http://www.cabdyn.ox.ac.uk/complexity_PDFs/Network%20Journal%20Club%20PDFs/athanasios.pdf\">Accurate telemonitoring of Parkinson’s disease progression by non-invasive speech tests</a>:\n",
    "\n",
    ">Tracking Parkinson's disease (PD) symptom progression often uses the Unified Parkinson’s Disease Rating Scale (UPDRS), which requires the patient's presence in clinic, and time-consuming physical examinations by trained medical staff. Thus, symptom monitoring is costly and logistically inconvenient for patient and clinical staff alike, also hindering recruitment for future large-scale clinical trials. [...] We characterize speech with signal processing  algorithms, and statistically map these algorithms to UPDRS. We verify our findings on the largest database of PD speech in existence (~6,000 recordings from 42 PD patients, recruited to a six-month, multi-centre trial).\n",
    "\n",
    "In essence, we will try to accurately predict a person's Parkinson's progression, meassured on 176 point scale (UPDRS) based on vocal features from the patients."
   ]
  },
  {
   "cell_type": "markdown",
   "metadata": {},
   "source": [
    "## 1. Importing and preparing the data\n",
    "The data set is currently saved as a text file in the <a href=\"https://en.wikipedia.org/wiki/Comma-separated_values\">comma separated values (CSV)</a> format, without a header, named \"parkinsons_updrs.csv\". We want to read in this textfile as separate lines into an rdd. A line is represented by the following column headers:\n",
    "\n",
    "## Chris: the dataset seems to have changed substantially - it appears to have 2 extra columns (motor_UPDRS and total_UPDRS), but I _assume_ (inferring from `check` answers below) that the original UPDRS column is now `total_UPDRS`, and that `subject#` is actually new. The csv file in the repo does also include a header row - in my branch I've deleted this row\n",
    "\n",
    "<b>subject# <br>\n",
    "age <br>\n",
    "sex <br>\n",
    "test_time  <br>\n",
    "motor_UPDRS <br>\n",
    "total_UPDRS <br>\n",
    "Jitter(%) <br>\n",
    "Jitter(Abs) <br>\n",
    "Jitter:RAP <br>\n",
    "Jitter:PPQ5\t<br>\n",
    "Jitter:DDP <br>\n",
    "Shimmer <br>\n",
    "Shimmer(dB) <br>\n",
    "Shimmer:APQ3 <br>\n",
    "Shimmer:APQ5 <br>\n",
    "Shimmer:APQ11 <br>\n",
    "Shimmer:DDA\t<br>\n",
    "NHR <br>\n",
    "HNR <br>\n",
    "RPDE <br>\n",
    "DFA <br>\n",
    "PPE</b>\n",
    "\n",
    "Where `subject#` is the label of the observation (data point), which is a float between 0 and 176. The following 21 columns are numeric features.\n",
    "\n",
    "## Chris: `subject#` is actually the subject ID. Each subject has multiple rows of data. UPDRS appears to be a data value, and although is unique for each of the rows, I'm not sure is suitable to be used as a label?\n",
    "\n",
    "If we want to run these lines as part of a script we would need to create a spark context:"
   ]
  },
  {
   "cell_type": "code",
   "execution_count": 2,
   "metadata": {},
   "outputs": [],
   "source": [
    "#from pyspark import SparkContext, StorageLevel\n",
    "#from pyspark.sql import SQLContext\n",
    "#sc = SparkContext(master=\"local[*]\")\n",
    "#sqlContext = SQLContext(sc)"
   ]
  },
  {
   "cell_type": "markdown",
   "metadata": {},
   "source": [
    "### 1.1 Store the parkinsons_updrs.csv in hdfs and read it after as RDD\n",
    "\n",
    "## Chris: I've commented these lines out, I don't think they're necessary? (when would they be necessary?)"
   ]
  },
  {
   "cell_type": "code",
   "execution_count": 1,
   "metadata": {},
   "outputs": [],
   "source": [
    "# this would be needed if we were running hdfs commands directly on the command line,\n",
    "# but are not needed when running pyspark\n",
    "\n",
    "# %%bash\n",
    "# hdfs dfs -put \"./parkinsons_updrs.csv\" \"parkinsons_updrs.csv\""
   ]
  },
  {
   "cell_type": "code",
   "execution_count": 2,
   "metadata": {},
   "outputs": [],
   "source": [
    "#Replace the <INSERT>\n",
    "data_file = \"parkinsons_updrs.csv\"\n",
    "rawLines = sc.textFile(data_file)"
   ]
  },
  {
   "cell_type": "markdown",
   "metadata": {},
   "source": [
    "### 1.2 Check if the RDD is correct\n",
    "\n",
    "Utilize the <a href=\"https://spark.apache.org/docs/latest/api/python/pyspark.html#pyspark.RDD.count\">count method</a> to check how many observations there are in the RDD. Then use the <a href=\"https://spark.apache.org/docs/latest/api/python/pyspark.html#pyspark.RDD.take\">take method</a> to take the first observation:"
   ]
  },
  {
   "cell_type": "code",
   "execution_count": 3,
   "metadata": {},
   "outputs": [
    {
     "name": "stdout",
     "output_type": "stream",
     "text": [
      "The number of observations: 5875\n",
      "The number of features: 21\n",
      "One observation: 1,72,0,5.6431,28.199,34.398,0.00662,3.38e-005,0.00401,0.00317,0.01204,0.02565,0.23,0.01438,0.01309,0.01662,0.04314,0.01429,21.64,0.41888,0.54842,0.16006\n"
     ]
    }
   ],
   "source": [
    "numObs = rawLines.count()\n",
    "print(\"The number of observations: {}\".format(numObs))\n",
    "sampleObs = rawLines.take(1)\n",
    "sampleObs = sampleObs[0]\n",
    "numFeatures = len(sampleObs.split(','))-1\n",
    "print(\"The number of features: {}\".format(numFeatures))\n",
    "print(\"One observation: {}\".format(sampleObs))"
   ]
  },
  {
   "cell_type": "code",
   "execution_count": 4,
   "metadata": {},
   "outputs": [],
   "source": [
    "#Helper functions to check results\n",
    "def check(x,y,label):\n",
    "    if(x == y):\n",
    "        print(\"Yay, \"+label+\" is correct!\")\n",
    "    else:\n",
    "        print(\"Nay, \"+label+\" is incorrect, please try again!\")\n",
    "\n",
    "def checkArray(x,y,label):\n",
    "    if np.allclose(x,y):\n",
    "        print(\"Yay, \"+label+\" is correct!\")\n",
    "    else:\n",
    "        print(\"Nay, \"+label+\" is incorrect, please try again!\")"
   ]
  },
  {
   "cell_type": "markdown",
   "metadata": {},
   "source": [
    "## Chris: I've had to change all three results here to reflect the changes to the dataset"
   ]
  },
  {
   "cell_type": "code",
   "execution_count": 5,
   "metadata": {},
   "outputs": [
    {
     "name": "stdout",
     "output_type": "stream",
     "text": [
      "Yay, the number of observations is correct!\n",
      "Yay, the number of features is correct!\n",
      "Yay, the first observation is correct!\n"
     ]
    }
   ],
   "source": [
    "#Check if the observations are correct\n",
    "check(numObs, 5875, \"the number of observations\")\n",
    "check(numFeatures, 21, \"the number of features\")\n",
    "check(len(sampleObs), 152, \"the first observation\")"
   ]
  },
  {
   "cell_type": "markdown",
   "metadata": {},
   "source": [
    "### 1.3 Using MLlib's LabeledPoint\n",
    "In the MLlib library, an observation is represented by a <a href=\"https://spark.apache.org/docs/latest/api/python/pyspark.mllib.html#pyspark.mllib.regression.LabeledPoint\">LabeledPoint</a>, which consists of label, a double representing the value for regression purposes, or an integer value representing the class for classification purposes: 0 (negative) and 1 (positive) for binary classification and 0,1,2,... for multiclass. To accompany the label, there is also an feature vector, called features, which consists of numeric features stored as either a list, NumPy array, pyspark.mllib.linalg.SparseVector, or scipy.sparse column matrix. \n",
    "\n",
    "Implement the parseObs function below that takes a comma separated string and created a labeled point out of it using the following function: <a href=\"https://docs.python.org/2/library/string.html#string.split\">string.split()</a>, create a parsed observation of sampleObs and print the label and features of it:"
   ]
  },
  {
   "cell_type": "code",
   "execution_count": 6,
   "metadata": {},
   "outputs": [],
   "source": [
    "#Import some stuff\n",
    "from pyspark.mllib.regression import LabeledPoint\n",
    "import numpy as np"
   ]
  },
  {
   "cell_type": "code",
   "execution_count": 7,
   "metadata": {},
   "outputs": [
    {
     "name": "stdout",
     "output_type": "stream",
     "text": [
      "1.0 [1.0,72.0,0.0,5.6431,28.199,34.398,0.00662,3.38e-05,0.00401,0.00317,0.01204,0.02565,0.23,0.01438,0.01309,0.01662,0.04314,0.01429,21.64,0.41888,0.54842,0.16006]\n"
     ]
    }
   ],
   "source": [
    "#Replace the <INSERT>\n",
    "def parseObs(line):\n",
    "    \"\"\"Parses a comma separated string into a LabeledPoint.\n",
    "\n",
    "    Args:\n",
    "         line (string): A comma separated string where the first element is the label and the \n",
    "                        following elements  are the features.\n",
    "\n",
    "    Returns:\n",
    "            LabeledPoint: The line is parsed into a LabeledPoint, which has a label and features.\n",
    "    \"\"\"\n",
    "    return LabeledPoint(line.split(\",\")[0], line.split(\",\"))\n",
    "\n",
    "parsedObs = parseObs(sampleObs)\n",
    "ObsLabel = parsedObs.label\n",
    "ObsFeatures = parsedObs.features\n",
    "print(ObsLabel, ObsFeatures)"
   ]
  },
  {
   "cell_type": "markdown",
   "metadata": {},
   "source": [
    "## Chris: is my return correct? Is the feature of a Labeled Point meant to include the label name too?\n",
    "\n",
    "## Chris: I've had to change both results below because of the changes to the dataset"
   ]
  },
  {
   "cell_type": "code",
   "execution_count": 8,
   "metadata": {},
   "outputs": [
    {
     "name": "stdout",
     "output_type": "stream",
     "text": [
      "Yay, the label of the first observation is correct!\n",
      "Yay, the features of the first observation is correct!\n"
     ]
    }
   ],
   "source": [
    "#Check if the LabeledPoint is correct\n",
    "check(ObsLabel,1,\"the label of the first observation\")\n",
    "check(len(ObsFeatures),22,\"the features of the first observation\")"
   ]
  },
  {
   "cell_type": "markdown",
   "metadata": {},
   "source": [
    "### 1.4 Parsing the observations\n",
    "Parse the points in rawLines into LabeledPoints using the above defined function parseObs, then create two RDD:s, one only containing the labels and one containing only features:"
   ]
  },
  {
   "cell_type": "code",
   "execution_count": 9,
   "metadata": {
    "scrolled": false
   },
   "outputs": [],
   "source": [
    "parsedObsInit = rawLines.map(lambda x: parseObs(x))\n",
    "features = parsedObsInit.map(lambda x: x.features)\n",
    "labels = parsedObsInit.map(lambda x: x.label)"
   ]
  },
  {
   "cell_type": "code",
   "execution_count": 10,
   "metadata": {},
   "outputs": [
    {
     "name": "stdout",
     "output_type": "stream",
     "text": [
      "Yay, the features vector is correct!\n",
      "Yay, the labels list is correct!\n"
     ]
    }
   ],
   "source": [
    "#Check if the parsed labels and features are correct\n",
    "\n",
    "check(features.collect()[5874][18],23.259,\"the features vector\")\n",
    "check(labels.collect()[5874],42.0,\"the labels list\")"
   ]
  },
  {
   "cell_type": "markdown",
   "metadata": {},
   "source": [
    "### 1.5 Change the labels to start in origin\n",
    "\n",
    "Let us first examine the range of labels (should be contained within the range $[0,176]$):\n",
    "\n",
    "## Chris: the change in dataset here causes some problems:\n",
    "##  - I don't think minYear and maxYear reflect the data (unless I've misunderstood it all)\n",
    "##  - min and max aren't UPDRS so the range isn't [0,176] anymore?\n",
    "##  - does it matter that subject# is not unique? i.e. every subject# has multiple rows of data; would it be better to have a true unique ID?"
   ]
  },
  {
   "cell_type": "code",
   "execution_count": 11,
   "metadata": {},
   "outputs": [
    {
     "name": "stdout",
     "output_type": "stream",
     "text": [
      "1.0 42.0\n"
     ]
    }
   ],
   "source": [
    "minYear = labels.reduce(min)\n",
    "maxYear = labels.reduce(max)\n",
    "print(minYear,maxYear)"
   ]
  },
  {
   "cell_type": "markdown",
   "metadata": {},
   "source": [
    "## what's the advantage of beginning in origin? is this just to make the labels start at zero? But it doesn't result in an ordinal set of labels?\n",
    "\n",
    "In regression tasks, it is often usual to change labels such that they begin in origin. Convert parsedObsInit to a new RDD consisting of LabeledPoint:s with the labels changed such as that smallest label equals zero:"
   ]
  },
  {
   "cell_type": "code",
   "execution_count": 12,
   "metadata": {},
   "outputs": [
    {
     "name": "stdout",
     "output_type": "stream",
     "text": [
      "0.0 41.0\n"
     ]
    }
   ],
   "source": [
    "parsedData = parsedObsInit.map(lambda x: LabeledPoint(x.label - minYear, x.features))\n",
    "labels = parsedData.map(lambda x: x.label)\n",
    "minYearNew = labels.reduce(min)\n",
    "maxYearNew = labels.reduce(max)\n",
    "print(minYearNew, maxYearNew)"
   ]
  },
  {
   "cell_type": "code",
   "execution_count": 13,
   "metadata": {},
   "outputs": [
    {
     "name": "stdout",
     "output_type": "stream",
     "text": [
      "Nay, the change in labels is incorrect, please try again!\n"
     ]
    }
   ],
   "source": [
    "#Check if the change in labels is correct\n",
    "check(labels.take(1)[0],27.398000000000003,\"the change in labels\")"
   ]
  },
  {
   "cell_type": "markdown",
   "metadata": {},
   "source": [
    "### 1.6 Summary statistics of the features\n",
    "Before starting a ML task, you should take a look at the features, and a statistical summary can be a good start: \n",
    "<a href=\"http://spark.apache.org/docs/latest/api/python/pyspark.mllib.html#pyspark.mllib.stat.Statistics.colStats\">colStats()</a> returns an instance of <a href=\"http://spark.apache.org/docs/latest/api/python/pyspark.mllib.html#pyspark.mllib.stat.MultivariateStatisticalSummary\">MultivariateStatisticalSummary</a>\n",
    ", which contains the column-wise max, min, mean, variance, and number of nonzeros, as well as the total count.\n",
    "\n",
    "The data set we are currently working on, is a well-behaved data set, we got no missing values and no extreme minimum or maximum values.\n"
   ]
  },
  {
   "cell_type": "code",
   "execution_count": 14,
   "metadata": {},
   "outputs": [
    {
     "name": "stdout",
     "output_type": "stream",
     "text": [
      "The number of non zero features:\n",
      "[5875. 5875. 1867. 5875. 5875. 5875. 5875. 5875. 5875. 5875. 5875. 5875.\n",
      " 5875. 5875. 5875. 5875. 5875. 5875. 5875. 5875. 5875. 5875.]\n",
      "The min of the features:\n",
      "[ 1.0000e+00  3.6000e+01  0.0000e+00 -4.2625e+00  5.0377e+00  7.0000e+00\n",
      "  8.3000e-04  2.2500e-06  3.3000e-04  4.3000e-04  9.8000e-04  3.0600e-03\n",
      "  2.6000e-02  1.6100e-03  1.9400e-03  2.4900e-03  4.8400e-03  2.8600e-04\n",
      "  1.6590e+00  1.5102e-01  5.1404e-01  2.1983e-02]\n",
      "The max of the features:\n",
      "[4.2000e+01 8.5000e+01 1.0000e+00 2.1549e+02 3.9511e+01 5.4992e+01\n",
      " 9.9990e-02 4.4559e-04 5.7540e-02 6.9560e-02 1.7263e-01 2.6863e-01\n",
      " 2.1070e+00 1.6267e-01 1.6702e-01 2.7546e-01 4.8802e-01 7.4826e-01\n",
      " 3.7875e+01 9.6608e-01 8.6560e-01 7.3173e-01]\n",
      "The mean of the features:\n",
      "[2.14941277e+01 6.48049362e+01 3.17787234e-01 9.28637220e+01\n",
      " 2.12962285e+01 2.90189423e+01 6.15376170e-03 4.40271183e-05\n",
      " 2.98718468e-03 3.27685106e-03 8.96167660e-03 3.40352170e-02\n",
      " 3.10960000e-01 1.71557038e-02 2.01441838e-02 2.74808613e-02\n",
      " 5.14669413e-02 3.21198175e-02 2.16794951e+01 5.41472933e-01\n",
      " 6.53239656e-01 2.19589179e-01]\n",
      "The variance of the features:\n",
      "[1.53073297e+02 7.78192810e+01 2.16835416e-01 2.85643238e+03\n",
      " 6.60852181e+01 1.14496062e+02 3.16319437e-05 1.29480210e-09\n",
      " 9.75824502e-06 1.39243640e-05 8.78248326e-05 6.67455381e-04\n",
      " 5.30167493e-02 1.75221284e-04 2.77686659e-04 3.99446009e-04\n",
      " 1.57699471e-03 3.56317135e-03 1.84135072e+01 1.01981293e-02\n",
      " 5.02709299e-03 8.37197440e-03]\n"
     ]
    }
   ],
   "source": [
    "from pyspark.mllib.stat import Statistics\n",
    "summary = Statistics.colStats(features)\n",
    "print(\"The number of non zero features:\\n\"+str(summary.numNonzeros()))\n",
    "print(\"The min of the features:\\n\"+str(summary.min()))\n",
    "print(\"The max of the features:\\n\"+str(summary.max()))\n",
    "print(\"The mean of the features:\\n\"+str(summary.mean()))\n",
    "print(\"The variance of the features:\\n\"+str(summary.variance()))"
   ]
  },
  {
   "cell_type": "markdown",
   "metadata": {},
   "source": [
    "### 1.7 Scaling and normalizing the observations\n",
    "In the MLlibrary there exist two classes representing <a href=\"https://en.wikipedia.org/wiki/Feature_scaling\">feature scaling</a> which are the\n",
    "<a href=\"https://spark.apache.org/docs/latest/api/python/pyspark.mllib.html#pyspark.mllib.feature.StandardScalerModel\">StandardScaler</a> and the <a href=\"https://spark.apache.org/docs/latest/api/python/pyspark.mllib.html#pyspark.mllib.feature.Normalizer\">Normalizer</a>. The StandardScaler can take an input of RDD[Vector], learn the summary statistics, and then return a model which can transform the input dataset into unit standard deviation and/or zero mean features, i.e. taking the $x'$ of each feature. The Normalizer scales individual feature vectors to have unit p-norm. i.e. calculating $\\mathbf{v'}$.\n",
    "\n",
    "$$\n",
    "x' = \\frac{x-\\hat{x}}{\\sigma}\n",
    "\\qquad\n",
    "\\|\\mathbf{v}\\|_p = (\\sum\\limits_{i=1}^n |x_i|^p)^{1/p}\n",
    "\\qquad\n",
    "\\mathbf{v'} = \\frac{\\mathbf{v}}{\\|\\mathbf{v}\\|_p}\n",
    "$$\n",
    "The following page contains examples of feature scaling and normalizing <a href=\"http://spark.apache.org/docs/latest/mllib-feature-extraction.html#model-fitting\">examples</a>. Scale the features with the standard deviation, but not the mean and then normalize the scaled features with the $p=\\infty$ norm:"
   ]
  },
  {
   "cell_type": "code",
   "execution_count": 17,
   "metadata": {},
   "outputs": [],
   "source": [
    "#Import some more stuff\n",
    "from pyspark.mllib.feature import StandardScaler\n",
    "from pyspark.mllib.feature import Normalizer"
   ]
  },
  {
   "cell_type": "markdown",
   "metadata": {},
   "source": [
    "## Chris: I haven't got a copy of the slides :) so my answers here are guesses"
   ]
  },
  {
   "cell_type": "code",
   "execution_count": 20,
   "metadata": {},
   "outputs": [
    {
     "name": "stdout",
     "output_type": "stream",
     "text": [
      "[LabeledPoint(0.0, [0.01142271814145405,0.8224357061846916,0.0,0.06445954074403934,0.3221092288708628,0.39291865862973646,7.561839409642582e-05,3.860878731811469e-07,4.580509974723074e-05,3.621001650840934e-05,0.00013752952642310677,0.00029299272032829636,0.0026272251725344316,0.00016425868687410924,0.0001495233804716335,0.0001898455755109663,0.0004927760606223277,0.00016323064224137837,0.24718762058106564,0.004784748175092272,0.00626444708313623,0.0018283202657211352])]\n"
     ]
    }
   ],
   "source": [
    "#Replace the <INSERT>\n",
    "# Check in the slides the methods to use\n",
    "scaler = StandardScaler(True, True)\n",
    "scaledFeatures = scaler.fit(features)\n",
    "norm = Normalizer()\n",
    "normScaledFeatures = norm.transform(features)\n",
    "normScaledObs = labels.zip(normScaledFeatures)\n",
    "normScaledObs  = normScaledObs.map(lambda x: LabeledPoint(x[0], x[1]))\n",
    "print(normScaledObs.take(1))"
   ]
  },
  {
   "cell_type": "markdown",
   "metadata": {},
   "source": [
    "## Chris: StandardScalerModel doesn't have a take method - it doesn't return a RDD (and also confusingly, returning dir() doesn't show the same methods as https://spark.apache.org/docs/2.2.0/api/python/pyspark.ml.html#pyspark.ml.feature.StandardScaler , but version doesn't seem to be an issue as far as I can see"
   ]
  },
  {
   "cell_type": "code",
   "execution_count": 23,
   "metadata": {},
   "outputs": [
    {
     "name": "stdout",
     "output_type": "stream",
     "text": [
      "<class 'pyspark.mllib.feature.StandardScalerModel'>\n",
      "['__class__', '__del__', '__delattr__', '__dict__', '__dir__', '__doc__', '__eq__', '__format__', '__ge__', '__getattribute__', '__gt__', '__hash__', '__init__', '__init_subclass__', '__le__', '__lt__', '__module__', '__ne__', '__new__', '__reduce__', '__reduce_ex__', '__repr__', '__setattr__', '__sizeof__', '__str__', '__subclasshook__', '__weakref__', '_java_model', '_sc', 'call', 'mean', 'setWithMean', 'setWithStd', 'std', 'transform', 'withMean', 'withStd']\n"
     ]
    },
    {
     "ename": "AttributeError",
     "evalue": "'StandardScalerModel' object has no attribute 'take'",
     "output_type": "error",
     "traceback": [
      "\u001b[0;31m---------------------------------------------------------------------------\u001b[0m",
      "\u001b[0;31mAttributeError\u001b[0m                            Traceback (most recent call last)",
      "\u001b[0;32m<ipython-input-23-b19692415651>\u001b[0m in \u001b[0;36m<module>\u001b[0;34m()\u001b[0m\n\u001b[1;32m      2\u001b[0m \u001b[0mprint\u001b[0m\u001b[0;34m(\u001b[0m\u001b[0mdir\u001b[0m\u001b[0;34m(\u001b[0m\u001b[0mscaledFeatures\u001b[0m\u001b[0;34m)\u001b[0m\u001b[0;34m)\u001b[0m\u001b[0;34m\u001b[0m\u001b[0m\n\u001b[1;32m      3\u001b[0m \u001b[0;34m\u001b[0m\u001b[0m\n\u001b[0;32m----> 4\u001b[0;31m \u001b[0mcheck\u001b[0m\u001b[0;34m(\u001b[0m\u001b[0mscaledFeatures\u001b[0m\u001b[0;34m.\u001b[0m\u001b[0mtake\u001b[0m\u001b[0;34m(\u001b[0m\u001b[0;36m1\u001b[0m\u001b[0;34m)\u001b[0m\u001b[0;34m[\u001b[0m\u001b[0;36m0\u001b[0m\u001b[0;34m]\u001b[0m\u001b[0;34m[\u001b[0m\u001b[0;36m18\u001b[0m\u001b[0;34m]\u001b[0m\u001b[0;34m,\u001b[0m\u001b[0;36m1.7493184105028705\u001b[0m\u001b[0;34m,\u001b[0m\u001b[0;34m\"the scaled features\"\u001b[0m\u001b[0;34m)\u001b[0m\u001b[0;34m\u001b[0m\u001b[0m\n\u001b[0m\u001b[1;32m      5\u001b[0m \u001b[0mcheck\u001b[0m\u001b[0;34m(\u001b[0m\u001b[0mnormScaledFeatures\u001b[0m\u001b[0;34m.\u001b[0m\u001b[0mtake\u001b[0m\u001b[0;34m(\u001b[0m\u001b[0;36m1\u001b[0m\u001b[0;34m)\u001b[0m\u001b[0;34m[\u001b[0m\u001b[0;36m0\u001b[0m\u001b[0;34m]\u001b[0m\u001b[0;34m[\u001b[0m\u001b[0;36m18\u001b[0m\u001b[0;34m]\u001b[0m\u001b[0;34m,\u001b[0m\u001b[0;36m0.21432852613822129\u001b[0m\u001b[0;34m,\u001b[0m\u001b[0;34m\"the normalized and scaled features\"\u001b[0m\u001b[0;34m)\u001b[0m\u001b[0;34m\u001b[0m\u001b[0m\n",
      "\u001b[0;31mAttributeError\u001b[0m: 'StandardScalerModel' object has no attribute 'take'"
     ]
    }
   ],
   "source": [
    "print(type(scaledFeatures))\n",
    "print(dir(scaledFeatures))\n",
    "\n",
    "check(scaledFeatures.take(1)[0][18],1.7493184105028705,\"the scaled features\")\n",
    "check(normScaledFeatures.take(1)[0][18],0.21432852613822129,\"the normalized and scaled features\")"
   ]
  },
  {
   "cell_type": "markdown",
   "metadata": {},
   "source": [
    "### 1.8 Illustrating the features\n",
    "To try to find patterns in the features, we will visualize the data set, by projecting it from 19 dimensions to 2. This dimensionality reduction is achieved by using <a href=\"https://en.wikipedia.org/wiki/Principal_component_analysis\">PCA</a>, a type of unsupervised learning, which we will explain further next week."
   ]
  },
  {
   "cell_type": "code",
   "execution_count": 24,
   "metadata": {},
   "outputs": [],
   "source": [
    "from sklearn.decomposition import TruncatedSVD\n",
    "#Calculate the PCA of normScaledFeatures\n",
    "Y = TruncatedSVD(n_components=2).fit_transform(normScaledFeatures.collect())"
   ]
  },
  {
   "cell_type": "code",
   "execution_count": 25,
   "metadata": {},
   "outputs": [],
   "source": [
    "#To inline the plots\n",
    "%matplotlib inline"
   ]
  },
  {
   "cell_type": "code",
   "execution_count": 26,
   "metadata": {
    "scrolled": true
   },
   "outputs": [
    {
     "data": {
      "text/plain": [
       "<matplotlib.collections.PathCollection at 0x7ffe7dee5518>"
      ]
     },
     "execution_count": 26,
     "metadata": {},
     "output_type": "execute_result"
    },
    {
     "data": {
      "image/png": "[encoded data removed]",
      "text/plain": [
       "<matplotlib.figure.Figure at 0x7ffe7df5cda0>"
      ]
     },
     "metadata": {},
     "output_type": "display_data"
    }
   ],
   "source": [
    "import matplotlib.pyplot as plt\n",
    "plt.figure(figsize=(15,10))\n",
    "plt.scatter(Y[:, 0], Y[:, 1], c=labels.collect(),linewidths=.5, s=100)"
   ]
  },
  {
   "cell_type": "markdown",
   "metadata": {},
   "source": [
    "If you look at the graph above, you probably see some regions that look like clusters, and others where the colors are intermingled. The color map associates lower values to blue, and higher values to red; values in middle are in green. The intermingled points makes this a hard problem, to try to find a linear regression that correctly predicts the labels will not be an easy task. \n",
    "\n",
    "### 1.9  Splitting the data into training, validation, and test sets \n",
    "Our last task with preparing the data set is to split it into a training, validation and test set. An usual split is 70%/15%/15%.\n",
    "\n",
    "Utilize the <a href=\"https://spark.apache.org/docs/latest/api/python/pyspark.html#pyspark.RDD.randomSplit\">randomSplit</a> function, with the weights and seed specified below. Then cache the three data sets, because you will reuse them during this exercise:"
   ]
  },
  {
   "cell_type": "code",
   "execution_count": 32,
   "metadata": {},
   "outputs": [
    {
     "data": {
      "text/plain": [
       "PythonRDD[39] at RDD at PythonRDD.scala:53"
      ]
     },
     "execution_count": 32,
     "metadata": {},
     "output_type": "execute_result"
    }
   ],
   "source": [
    "#Replace the <INSERT>\n",
    "weights = [.7, .15, .15]\n",
    "seed = 0\n",
    "trainObs, valObs, testObs = normScaledObs.randomSplit(weights, seed)\n",
    "\n",
    "trainObs.cache()\n",
    "valObs.cache()\n",
    "testObs.cache()"
   ]
  },
  {
   "cell_type": "code",
   "execution_count": 33,
   "metadata": {},
   "outputs": [
    {
     "name": "stdout",
     "output_type": "stream",
     "text": [
      "Size of train set: 4107\n",
      "Size of validation set: 886\n",
      "Size of test set: 882\n",
      "Size of total data set: 5875\n"
     ]
    }
   ],
   "source": [
    "numTrain = trainObs.count()\n",
    "numVal = valObs.count()\n",
    "numTest = testObs.count()\n",
    "\n",
    "print(\"Size of train set: \"+str(numTrain))\n",
    "print(\"Size of validation set: \"+str(numVal))\n",
    "print(\"Size of test set: \"+str(numTest))\n",
    "print(\"Size of total data set: \"+str(+numTrain+numVal+numTest))"
   ]
  },
  {
   "cell_type": "markdown",
   "metadata": {},
   "source": [
    "## Chris: the values here will need to be updated"
   ]
  },
  {
   "cell_type": "code",
   "execution_count": 34,
   "metadata": {},
   "outputs": [
    {
     "name": "stdout",
     "output_type": "stream",
     "text": [
      "Nay, the train set is incorrect, please try again!\n",
      "Nay, the validation set is incorrect, please try again!\n",
      "Nay, the test set is incorrect, please try again!\n",
      "Yay, the total data set is correct!\n"
     ]
    }
   ],
   "source": [
    "#Check if the data sets are correct\n",
    "check(numTrain, 4089, \"the train set\")\n",
    "check(numVal, 877, \"the validation set\")\n",
    "check(numTest, 909, \"the test set\")\n",
    "check(numTrain+numVal+numTest, 5875, \"the total data set\")"
   ]
  },
  {
   "cell_type": "markdown",
   "metadata": {},
   "source": [
    "## 2. Creating a baseline benchmark\n",
    "### 2.1 The average UPDRS score\n",
    "An quite natural baseline to compare your result against is to predict the same value for each observation, using the average value.\n",
    "\n",
    "Compute the average UPDRS score (the label) below:"
   ]
  },
  {
   "cell_type": "code",
   "execution_count": 35,
   "metadata": {},
   "outputs": [
    {
     "name": "stdout",
     "output_type": "stream",
     "text": [
      "20.58047236425617\n"
     ]
    }
   ],
   "source": [
    "meanUPDRS = trainObs.map(lambda x: x.label).mean() \n",
    "print(meanUPDRS)"
   ]
  },
  {
   "cell_type": "code",
   "execution_count": 37,
   "metadata": {},
   "outputs": [
    {
     "name": "stdout",
     "output_type": "stream",
     "text": [
      "Nay, the average UPDRS is incorrect, please try again!\n"
     ]
    }
   ],
   "source": [
    "#Check if the average UPDRS is correct\n",
    "check(round(meanUPDRS),22.0, \"the average UPDRS\")"
   ]
  },
  {
   "cell_type": "markdown",
   "metadata": {},
   "source": [
    "### 2.2 The mean absolute error\n",
    "For evaluation purposes, we will use the <a href=\"https://en.wikipedia.org/wiki/Mean_absolute_error\"> mean absolute error</a> (MAE) as a metric. The MAE is defined as the sum of the absolute value off the label ($y_i$) minus the predicted value ($\\hat{y}_i$), divided by the number of labels:\n",
    "$$\n",
    "\\frac{1}{n}\\sum\\limits_{i=1}^n |y_i-\\hat{y}_i|\n",
    "$$\n",
    "\n",
    "Implement the function below that calculates the mean absolute error for a RDD of (label, prediction) tuples. You will use map() and the mean() methods."
   ]
  },
  {
   "cell_type": "code",
   "execution_count": 46,
   "metadata": {},
   "outputs": [
    {
     "name": "stdout",
     "output_type": "stream",
     "text": [
      "1.3333333333333333\n"
     ]
    }
   ],
   "source": [
    "#Replace the <INSERT>\n",
    "def calcMAE(labelPred):\n",
    "    \"\"\"Computes the mean absolute error for a RDD of (label, prediction) tuples.\n",
    "\n",
    "    Args:\n",
    "        labelPred (RDD of (float, float)): A RDD consisting of (label, prediction) tuples.\n",
    "\n",
    "    Returns:\n",
    "        float: The mean absolute error.\n",
    "    \"\"\"\n",
    "    meanSumDiff = labelPred.map(lambda xy: xy[0]-xy[1]).mean()\n",
    "    \n",
    "    return meanSumDiff\n",
    "\n",
    "\n",
    "labelPred = sc.parallelize([(4., 1.), (2., 1.), (17., 17.)])\n",
    "# RMSE = sqrt[|4-1| + |2-1| + |17-17|) / 3] = 1.33333333333\n",
    "testMAE = calcMAE(labelPred)\n",
    "print(testMAE)"
   ]
  },
  {
   "cell_type": "code",
   "execution_count": 47,
   "metadata": {},
   "outputs": [
    {
     "name": "stdout",
     "output_type": "stream",
     "text": [
      "Yay, the calculate MAE is correct!\n"
     ]
    }
   ],
   "source": [
    "check(round(testMAE,2),1.33, \"the calculate MAE\")"
   ]
  },
  {
   "cell_type": "markdown",
   "metadata": {},
   "source": [
    "### 2.3 The MAE of the train, validation, and test set\n",
    "We will now calculate the baseline benchmark MAE value for all three data sets.\n",
    "\n",
    "In the code below please compute the train, validation, and test benchmark MAE, by first creating a pair RDD consisting of (label, averageUPDRS) and then using the above defined function to calculate the MAE:"
   ]
  },
  {
   "cell_type": "code",
   "execution_count": 48,
   "metadata": {
    "scrolled": true
   },
   "outputs": [
    {
     "name": "stdout",
     "output_type": "stream",
     "text": [
      "Train benchmark MAE = -0.000\n",
      "Validation benchmark MAE = -0.005\n",
      "Test benchmark MAE = -0.570\n"
     ]
    }
   ],
   "source": [
    "trainLabelPred = trainObs.map(lambda x: (x.label, meanUPDRS))\n",
    "trainBenchMAE = calcMAE(trainLabelPred)\n",
    "\n",
    "trainLabelPred = valObs.map(lambda x: (x.label, meanUPDRS))\n",
    "valBenchMAE = calcMAE(trainLabelPred)\n",
    "\n",
    "testLabelPred = testObs.map(lambda x: (x.label, meanUPDRS))\n",
    "testBenchMAE = calcMAE(testLabelPred)\n",
    "\n",
    "print('Train benchmark MAE = {0:.3f}'.format(trainBenchMAE))\n",
    "print('Validation benchmark MAE = {0:.3f}'.format(valBenchMAE))\n",
    "print('Test benchmark MAE = {0:.3f}'.format(testBenchMAE))"
   ]
  },
  {
   "cell_type": "code",
   "execution_count": 49,
   "metadata": {},
   "outputs": [
    {
     "name": "stdout",
     "output_type": "stream",
     "text": [
      "Nay, the train benchmark MAE is incorrect, please try again!\n",
      "Nay, the validation benchmark MAE is incorrect, please try again!\n",
      "Nay, the test benchmark MAE is incorrect, please try again!\n"
     ]
    }
   ],
   "source": [
    "check(round(trainBenchMAE,3),8.585, \"the train benchmark MAE\")\n",
    "check(round(valBenchMAE,3),8.768, \"the validation benchmark MAE\")\n",
    "check(round(testBenchMAE,3),8.862, \"the test benchmark MAE\")"
   ]
  },
  {
   "cell_type": "markdown",
   "metadata": {},
   "source": [
    "The result of linear regression with gradient descent is about 0.305 better then the benchmark. It is an improvement compared to the benchmark, but not a huge difference. This means that this is a hard task to get good result with linear regression."
   ]
  },
  {
   "cell_type": "markdown",
   "metadata": {},
   "source": [
    "## 3. Utilizing MLlib\n",
    "\n",
    "### 3.1 Linear regression with stochastic gradient descent\n",
    "The MLlib's <a href=\"https://spark.apache.org/docs/latest/api/python/pyspark.mllib.html#pyspark.mllib.regression.LinearRegressionWithSGD\">LinearRegressionWithSGD</a> uses a stochastic gradient approximation, allowing for L1 or L2 regularization, and including an intercept in the model.\n",
    "\n",
    "Implement the code below, use the LinearRegressionWithSGD to train a model with the iterations, step size, reguralization parameter set to the below values, use the default values for the rest. This method returns a <a href=\"https://spark.apache.org/docs/latest/api/python/pyspark.mllib.html#pyspark.mllib.regression.LinearRegressionModel\">LinearRegressionModel</a>, which you can use to predict LabeledPoint:s:\n",
    "\n",
    "## Chris: LinearRegressionWithSGD is deprecated - should we update to use the recommended new method?"
   ]
  },
  {
   "cell_type": "code",
   "execution_count": 50,
   "metadata": {},
   "outputs": [],
   "source": [
    "#Even more stuff imported!\n",
    "from pyspark.mllib.regression import LinearRegressionWithSGD"
   ]
  },
  {
   "cell_type": "code",
   "execution_count": 52,
   "metadata": {
    "scrolled": true
   },
   "outputs": [
    {
     "name": "stdout",
     "output_type": "stream",
     "text": [
      "[13.163077959041827,11.268393798561153,0.16155328948305855,13.29476772431861,5.274892081540328,7.133433129075393,0.0017303015016890764,1.0100344857900831e-05,0.0008494452178175987,0.0010065226108816915,0.002548411531720458,0.009138375775070628,0.08238013973144402,0.004274376341865257,0.005499205811806719,0.007719569885399485,0.012823089237763697,0.014010535180586725,3.281312788663865,0.10987498211307771,0.12320281609183946,0.05030687118814083]\n"
     ]
    }
   ],
   "source": [
    "#Replace the <INSERT>\n",
    "iters = 20  # iterations\n",
    "alpha = 1.0  # step\n",
    "reg = 1e-4  # regParam\n",
    "linRegSGD = LinearRegressionWithSGD.train(normScaledObs, step=alpha, iterations=iters, regParam=reg,)\n",
    "\n",
    "#Get the weigths of the model\n",
    "weightsLRSGD = linRegSGD.weights\n",
    "print (weightsLRSGD)"
   ]
  },
  {
   "cell_type": "markdown",
   "metadata": {},
   "source": [
    "## Chris: this fails at the moment because the lists are different lengths (more columns in new dataset!)"
   ]
  },
  {
   "cell_type": "code",
   "execution_count": 54,
   "metadata": {},
   "outputs": [
    {
     "ename": "ValueError",
     "evalue": "operands could not be broadcast together with shapes (22,) (19,) ",
     "output_type": "error",
     "traceback": [
      "\u001b[0;31m---------------------------------------------------------------------------\u001b[0m",
      "\u001b[0;31mValueError\u001b[0m                                Traceback (most recent call last)",
      "\u001b[0;32m<ipython-input-54-d91c0722f496>\u001b[0m in \u001b[0;36m<module>\u001b[0;34m()\u001b[0m\n\u001b[1;32m      3\u001b[0m                           \u001b[0;36m1.11149306596\u001b[0m\u001b[0;34m,\u001b[0m\u001b[0;36m1.03967181129\u001b[0m\u001b[0;34m,\u001b[0m\u001b[0;36m1.48218083935\u001b[0m\u001b[0;34m,\u001b[0m\u001b[0;36m1.11151636353\u001b[0m\u001b[0;34m,\u001b[0m\u001b[0;36m0.247489223328\u001b[0m\u001b[0;34m,\u001b[0m\u001b[0;34m\u001b[0m\u001b[0m\n\u001b[1;32m      4\u001b[0m                           3.49634026933,5.25804171983,7.79639148963,3.00069009988]\n\u001b[0;32m----> 5\u001b[0;31m           ,\"the weights of the model\")\n\u001b[0m",
      "\u001b[0;32m<ipython-input-4-8e2314ffed43>\u001b[0m in \u001b[0;36mcheckArray\u001b[0;34m(x, y, label)\u001b[0m\n\u001b[1;32m      7\u001b[0m \u001b[0;34m\u001b[0m\u001b[0m\n\u001b[1;32m      8\u001b[0m \u001b[0;32mdef\u001b[0m \u001b[0mcheckArray\u001b[0m\u001b[0;34m(\u001b[0m\u001b[0mx\u001b[0m\u001b[0;34m,\u001b[0m\u001b[0my\u001b[0m\u001b[0;34m,\u001b[0m\u001b[0mlabel\u001b[0m\u001b[0;34m)\u001b[0m\u001b[0;34m:\u001b[0m\u001b[0;34m\u001b[0m\u001b[0m\n\u001b[0;32m----> 9\u001b[0;31m     \u001b[0;32mif\u001b[0m \u001b[0mnp\u001b[0m\u001b[0;34m.\u001b[0m\u001b[0mallclose\u001b[0m\u001b[0;34m(\u001b[0m\u001b[0mx\u001b[0m\u001b[0;34m,\u001b[0m\u001b[0my\u001b[0m\u001b[0;34m)\u001b[0m\u001b[0;34m:\u001b[0m\u001b[0;34m\u001b[0m\u001b[0m\n\u001b[0m\u001b[1;32m     10\u001b[0m         \u001b[0mprint\u001b[0m\u001b[0;34m(\u001b[0m\u001b[0;34m\"Yay, \"\u001b[0m\u001b[0;34m+\u001b[0m\u001b[0mlabel\u001b[0m\u001b[0;34m+\u001b[0m\u001b[0;34m\" is correct!\"\u001b[0m\u001b[0;34m)\u001b[0m\u001b[0;34m\u001b[0m\u001b[0m\n\u001b[1;32m     11\u001b[0m     \u001b[0;32melse\u001b[0m\u001b[0;34m:\u001b[0m\u001b[0;34m\u001b[0m\u001b[0m\n",
      "\u001b[0;32m/lustre/sw/anaconda/anaconda3-5.1.0/lib/python3.6/site-packages/numpy/core/numeric.py\u001b[0m in \u001b[0;36mallclose\u001b[0;34m(a, b, rtol, atol, equal_nan)\u001b[0m\n\u001b[1;32m   2254\u001b[0m \u001b[0;34m\u001b[0m\u001b[0m\n\u001b[1;32m   2255\u001b[0m     \"\"\"\n\u001b[0;32m-> 2256\u001b[0;31m     \u001b[0mres\u001b[0m \u001b[0;34m=\u001b[0m \u001b[0mall\u001b[0m\u001b[0;34m(\u001b[0m\u001b[0misclose\u001b[0m\u001b[0;34m(\u001b[0m\u001b[0ma\u001b[0m\u001b[0;34m,\u001b[0m \u001b[0mb\u001b[0m\u001b[0;34m,\u001b[0m \u001b[0mrtol\u001b[0m\u001b[0;34m=\u001b[0m\u001b[0mrtol\u001b[0m\u001b[0;34m,\u001b[0m \u001b[0matol\u001b[0m\u001b[0;34m=\u001b[0m\u001b[0matol\u001b[0m\u001b[0;34m,\u001b[0m \u001b[0mequal_nan\u001b[0m\u001b[0;34m=\u001b[0m\u001b[0mequal_nan\u001b[0m\u001b[0;34m)\u001b[0m\u001b[0;34m)\u001b[0m\u001b[0;34m\u001b[0m\u001b[0m\n\u001b[0m\u001b[1;32m   2257\u001b[0m     \u001b[0;32mreturn\u001b[0m \u001b[0mbool\u001b[0m\u001b[0;34m(\u001b[0m\u001b[0mres\u001b[0m\u001b[0;34m)\u001b[0m\u001b[0;34m\u001b[0m\u001b[0m\n\u001b[1;32m   2258\u001b[0m \u001b[0;34m\u001b[0m\u001b[0m\n",
      "\u001b[0;32m/lustre/sw/anaconda/anaconda3-5.1.0/lib/python3.6/site-packages/numpy/core/numeric.py\u001b[0m in \u001b[0;36misclose\u001b[0;34m(a, b, rtol, atol, equal_nan)\u001b[0m\n\u001b[1;32m   2333\u001b[0m     \u001b[0myfin\u001b[0m \u001b[0;34m=\u001b[0m \u001b[0misfinite\u001b[0m\u001b[0;34m(\u001b[0m\u001b[0my\u001b[0m\u001b[0;34m)\u001b[0m\u001b[0;34m\u001b[0m\u001b[0m\n\u001b[1;32m   2334\u001b[0m     \u001b[0;32mif\u001b[0m \u001b[0mall\u001b[0m\u001b[0;34m(\u001b[0m\u001b[0mxfin\u001b[0m\u001b[0;34m)\u001b[0m \u001b[0;32mand\u001b[0m \u001b[0mall\u001b[0m\u001b[0;34m(\u001b[0m\u001b[0myfin\u001b[0m\u001b[0;34m)\u001b[0m\u001b[0;34m:\u001b[0m\u001b[0;34m\u001b[0m\u001b[0m\n\u001b[0;32m-> 2335\u001b[0;31m         \u001b[0;32mreturn\u001b[0m \u001b[0mwithin_tol\u001b[0m\u001b[0;34m(\u001b[0m\u001b[0mx\u001b[0m\u001b[0;34m,\u001b[0m \u001b[0my\u001b[0m\u001b[0;34m,\u001b[0m \u001b[0matol\u001b[0m\u001b[0;34m,\u001b[0m \u001b[0mrtol\u001b[0m\u001b[0;34m)\u001b[0m\u001b[0;34m\u001b[0m\u001b[0m\n\u001b[0m\u001b[1;32m   2336\u001b[0m     \u001b[0;32melse\u001b[0m\u001b[0;34m:\u001b[0m\u001b[0;34m\u001b[0m\u001b[0m\n\u001b[1;32m   2337\u001b[0m         \u001b[0mfinite\u001b[0m \u001b[0;34m=\u001b[0m \u001b[0mxfin\u001b[0m \u001b[0;34m&\u001b[0m \u001b[0myfin\u001b[0m\u001b[0;34m\u001b[0m\u001b[0m\n",
      "\u001b[0;32m/lustre/sw/anaconda/anaconda3-5.1.0/lib/python3.6/site-packages/numpy/core/numeric.py\u001b[0m in \u001b[0;36mwithin_tol\u001b[0;34m(x, y, atol, rtol)\u001b[0m\n\u001b[1;32m   2319\u001b[0m     \u001b[0;32mdef\u001b[0m \u001b[0mwithin_tol\u001b[0m\u001b[0;34m(\u001b[0m\u001b[0mx\u001b[0m\u001b[0;34m,\u001b[0m \u001b[0my\u001b[0m\u001b[0;34m,\u001b[0m \u001b[0matol\u001b[0m\u001b[0;34m,\u001b[0m \u001b[0mrtol\u001b[0m\u001b[0;34m)\u001b[0m\u001b[0;34m:\u001b[0m\u001b[0;34m\u001b[0m\u001b[0m\n\u001b[1;32m   2320\u001b[0m         \u001b[0;32mwith\u001b[0m \u001b[0merrstate\u001b[0m\u001b[0;34m(\u001b[0m\u001b[0minvalid\u001b[0m\u001b[0;34m=\u001b[0m\u001b[0;34m'ignore'\u001b[0m\u001b[0;34m)\u001b[0m\u001b[0;34m:\u001b[0m\u001b[0;34m\u001b[0m\u001b[0m\n\u001b[0;32m-> 2321\u001b[0;31m             \u001b[0;32mreturn\u001b[0m \u001b[0mless_equal\u001b[0m\u001b[0;34m(\u001b[0m\u001b[0mabs\u001b[0m\u001b[0;34m(\u001b[0m\u001b[0mx\u001b[0m\u001b[0;34m-\u001b[0m\u001b[0my\u001b[0m\u001b[0;34m)\u001b[0m\u001b[0;34m,\u001b[0m \u001b[0matol\u001b[0m \u001b[0;34m+\u001b[0m \u001b[0mrtol\u001b[0m \u001b[0;34m*\u001b[0m \u001b[0mabs\u001b[0m\u001b[0;34m(\u001b[0m\u001b[0my\u001b[0m\u001b[0;34m)\u001b[0m\u001b[0;34m)\u001b[0m\u001b[0;34m\u001b[0m\u001b[0m\n\u001b[0m\u001b[1;32m   2322\u001b[0m \u001b[0;34m\u001b[0m\u001b[0m\n\u001b[1;32m   2323\u001b[0m     \u001b[0mx\u001b[0m \u001b[0;34m=\u001b[0m \u001b[0masanyarray\u001b[0m\u001b[0;34m(\u001b[0m\u001b[0ma\u001b[0m\u001b[0;34m)\u001b[0m\u001b[0;34m\u001b[0m\u001b[0m\n",
      "\u001b[0;31mValueError\u001b[0m: operands could not be broadcast together with shapes (22,) (19,) "
     ]
    }
   ],
   "source": [
    "checkArray(weightsLRSGD, [8.30193710199,-0.33530190475,2.04977378005,1.09952121318,1.24159481483,\n",
    "                          0.936720117339,0.772573966266,0.936817553234,1.16986198426,1.23938528482,\n",
    "                          1.11149306596,1.03967181129,1.48218083935,1.11151636353,0.247489223328,\n",
    "                          3.49634026933,5.25804171983,7.79639148963,3.00069009988]\n",
    "          ,\"the weights of the model\")"
   ]
  },
  {
   "cell_type": "markdown",
   "metadata": {},
   "source": [
    "### 3.2 Evaluate the Linear regression with SGD\n",
    "We will check the new model on the validation set:"
   ]
  },
  {
   "cell_type": "code",
   "execution_count": 55,
   "metadata": {},
   "outputs": [
    {
     "name": "stdout",
     "output_type": "stream",
     "text": [
      "Validation MAE:\n",
      "\tBenchmark: = -0.005\n",
      "\tLRSGD = 0.174\n",
      "\n",
      "The difference between Benchmark and SGD = -0.179\n"
     ]
    }
   ],
   "source": [
    "labelPred = valObs.map(lambda lp: (lp.label, linRegSGD.predict(lp.features)))\n",
    "valLRSGDMAE = calcMAE(labelPred)\n",
    "\n",
    "print(\"Validation MAE:\\n\\tBenchmark: = {0:.3f}\\n\\tLRSGD = {1:.3f}\"\n",
    "      .format(valBenchMAE, valLRSGDMAE))\n",
    "print(\"\\nThe difference between Benchmark and SGD = {0:.3f}\".format(valBenchMAE-valLRSGDMAE))"
   ]
  },
  {
   "cell_type": "markdown",
   "metadata": {},
   "source": [
    "### 3.3 Improve the hyperparameters\n",
    "All the options to LinearRegressionWithSGD can be seen as hyperparameters: iterations, step size, mini batch fraction, regularization type, reguralization parameter, and intercept. For this task the most important parameters to tune is the iterations, and step size options. So we will do it in the following cells, often if you have reasonable values for the other parameters, you can tune one parameter in isolation.\n",
    "\n",
    "So run the following cells to find optimal values for the two parameters:\n",
    "\n",
    "#### 4.3.1 Improve the iterations parameter\n",
    "We will try several values for the iteration parameter and pick the one that gets the best result:"
   ]
  },
  {
   "cell_type": "code",
   "execution_count": 56,
   "metadata": {
    "scrolled": true
   },
   "outputs": [
    {
     "name": "stdout",
     "output_type": "stream",
     "text": [
      "iters = 10, MAE = 0.138\n",
      "iters = 50, MAE = 0.084\n",
      "iters = 100, MAE = 0.070\n",
      "iters = 500, MAE = 0.052\n",
      "iters = 1000, MAE = 0.052\n",
      "Best MAE for the following value of iters = 500, MAE = 0.052\n"
     ]
    }
   ],
   "source": [
    "bestMAE = valLRSGDMAE\n",
    "bestIters = 0\n",
    "for iters in [10,50,100,500,1000]:\n",
    "    model = LinearRegressionWithSGD.train(trainObs, iterations=iters, step=alpha, regParam=reg)\n",
    "    labelPred = valObs.map(lambda lp: (lp.label, model.predict(lp.features)))\n",
    "    valMAE = calcMAE(labelPred)\n",
    "        \n",
    "    if valMAE < bestMAE:\n",
    "        bestMAE = valMAE\n",
    "        bestIters = iters\n",
    "        \n",
    "    print(\"iters = {0}, MAE = {1:.3f}\".format(iters, valMAE))\n",
    "        \n",
    "print(\"Best MAE for the following value of iters = {0}, MAE = {1:.3f}\".\n",
    "      format(bestIters, bestMAE))"
   ]
  },
  {
   "cell_type": "markdown",
   "metadata": {},
   "source": [
    "#### 3.3.2 Improve the step size parameter (alpha)\n",
    "We will try some values for the step size parameter (this may take while on a slow computer):"
   ]
  },
  {
   "cell_type": "code",
   "execution_count": 57,
   "metadata": {},
   "outputs": [
    {
     "name": "stdout",
     "output_type": "stream",
     "text": [
      "alpha = 1, MAE = 0.052\n",
      "alpha = 2, MAE = 0.041\n",
      "alpha = 3, MAE = 0.035\n",
      "alpha = 4, MAE = 0.031\n",
      "alpha = 5, MAE = 0.027\n",
      "Best MAE for the following value of alpha = 5, MAE = 0.027\n"
     ]
    }
   ],
   "source": [
    "bestMAE = valLRSGDMAE\n",
    "bestAlpha = 0\n",
    "for alpha in np.arange(1,6,1):\n",
    "    model = LinearRegressionWithSGD.train(trainObs, iterations=bestIters, step=alpha,regParam=reg)\n",
    "    labelPred = valObs.map(lambda lp: (lp.label, model.predict(lp.features)))\n",
    "    valMAE = calcMAE(labelPred)\n",
    "        \n",
    "    if valMAE < bestMAE:\n",
    "        bestMAE = valMAE\n",
    "        bestAlpha = alpha\n",
    "        \n",
    "    print(\"alpha = {0}, MAE = {1:.3f}\".format(alpha, valMAE))\n",
    "        \n",
    "print(\"Best MAE for the following value of alpha = {0}, MAE = {1:.3f}\".\n",
    "      format(bestAlpha, bestMAE))"
   ]
  },
  {
   "cell_type": "markdown",
   "metadata": {},
   "source": [
    "### 3.4 Evaluate the linear regression with SGD and improved hyperparameters\n",
    "Let use evaluate the new model with the optimal parameters:"
   ]
  },
  {
   "cell_type": "code",
   "execution_count": 58,
   "metadata": {},
   "outputs": [
    {
     "name": "stdout",
     "output_type": "stream",
     "text": [
      "Validation MAE:\n",
      "\tBenchmark: = -0.005\n",
      "\tLRSGD = 0.174\n",
      "\tLRSGDOpt = 0.027\n",
      "\n",
      "The difference between Benchmark and SGDOpt = -0.032\n"
     ]
    }
   ],
   "source": [
    "print((\"Validation MAE:\\n\\tBenchmark: = {0:.3f}\\n\\tLRSGD = {1:.3f}\"+\n",
    "      \"\\n\\tLRSGDOpt = {2:.3f}\").format(valBenchMAE, valLRSGDMAE, bestMAE))\n",
    "print(\"\\nThe difference between Benchmark and SGDOpt = {0:.3f}\".format(valBenchMAE-bestMAE))"
   ]
  },
  {
   "cell_type": "markdown",
   "metadata": {},
   "source": [
    "The difference between the benchmark and the model with optimal parameters is 0.626, almost the double of the value that we got in part 3.4 of this exercise. A good relative increase, although not that great in absolute terms, but again this is hard task to do linear regression on.\n",
    "\n",
    "### 3.5 Evaluate all the models on the test set\n",
    "And finally we will evaluate all the models on the test set:"
   ]
  },
  {
   "cell_type": "code",
   "execution_count": 59,
   "metadata": {
    "scrolled": false
   },
   "outputs": [
    {
     "name": "stdout",
     "output_type": "stream",
     "text": [
      "Test MAE:\n",
      "\tBenchmark: = -0.570\n",
      "\tLRSGD = -0.335\n",
      "\tLRSGDOpt = -0.116\n",
      "\n",
      "The difference between Benchmark and SGDOpt = -0.454\n"
     ]
    }
   ],
   "source": [
    "#Calculate the test MAE for linear regressions with SGD\n",
    "labelPred = testObs.map(lambda lp: (lp.label, linRegSGD.predict(lp.features)))\n",
    "testLRSGDMAE = calcMAE(labelPred)\n",
    "\n",
    "#Calculate the test MAE for linear regressions with SGD, with (optimal) hyperparameters\n",
    "model = LinearRegressionWithSGD.train(trainObs, iterations=bestIters, step=bestAlpha,\n",
    "                                          regParam=reg, intercept=False)\n",
    "labelPred = testObs.map(lambda lp: (lp.label, model.predict(lp.features)))\n",
    "testOptMAE = calcMAE(labelPred)\n",
    "\n",
    "print((\"Test MAE:\\n\\tBenchmark: = {0:.3f}\\n\\tLRSGD = {1:.3f}\"+\n",
    "      \"\\n\\tLRSGDOpt = {2:.3f}\").format(testBenchMAE, testLRSGDMAE, \n",
    "                                       testOptMAE))\n",
    "print(\"\\nThe difference between Benchmark and SGDOpt = {0:.3f}\".format(testBenchMAE-testOptMAE))"
   ]
  },
  {
   "cell_type": "markdown",
   "metadata": {},
   "source": [
    "### 4.5 Post mortem discussion\n",
    "To have something to compare with, we can look at the original article <a href=\"http://www.cabdyn.ox.ac.uk/complexity_PDFs/Network%20Journal%20Club%20PDFs/athanasios.pdf\">Accurate telemonitoring of Parkinson’s disease progression by non-invasive speech tests</a> at the last page we can find the best result for two types of regression, one linear: <a href=\"https://en.wikipedia.org/wiki/Iteratively_reweighted_least_squares\">Iteratively reweighted least squares</a> and one non-linear: <a href=\"https://en.wikipedia.org/wiki/Decision_tree_learning#Types\">classification and regression tree</a>.\n",
    "\n",
    "The linear ones best result is a MAE of 8.46, but this result is on a mean of 1000 runs of 10-fold cross validation, so it is not directly comparable, but can give an indication of the quality of the result. The non-linear method has a result of 7.52, i.e. almost one point lower, which indicates that this task is non-linear in it's nature.\n",
    "\n",
    "As an optional home assignment you will implement the gradient descent yourself."
   ]
  }
 ],
 "metadata": {
  "kernelspec": {
   "display_name": "Python 3",
   "language": "python",
   "name": "python3"
  },
  "language_info": {
   "codemirror_mode": {
    "name": "ipython",
    "version": 3
   },
   "file_extension": ".py",
   "mimetype": "text/x-python",
   "name": "python",
   "nbconvert_exporter": "python",
   "pygments_lexer": "ipython3",
   "version": "3.6.4"
  }
 },
 "nbformat": 4,
 "nbformat_minor": 1
}
